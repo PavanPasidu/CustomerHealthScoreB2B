{
 "cells": [
  {
   "cell_type": "code",
   "execution_count": null,
   "id": "ee9e30f6",
   "metadata": {},
   "outputs": [],
   "source": [
    "# import libs\n",
    "import pandas as pd"
   ]
  },
  {
   "cell_type": "code",
   "execution_count": null,
   "id": "4d95f4b5",
   "metadata": {},
   "outputs": [],
   "source": [
    "# read the dataset\n",
    "dataset2 = pd.read_csv('E:\\Research\\Datasets\\WSO2/dataset2.csv')\n",
    "encoded_regressor_dataset = pd.read_csv('E:\\Research\\Datasets\\WSO2/regressor_dataset.csv')"
   ]
  },
  {
   "cell_type": "code",
   "execution_count": null,
   "id": "d0d31ac2",
   "metadata": {},
   "outputs": [],
   "source": [
    "dataset2.nunique()"
   ]
  },
  {
   "cell_type": "code",
   "execution_count": null,
   "id": "9343d382",
   "metadata": {},
   "outputs": [],
   "source": [
    "encoded_regressor_dataset.nunique()"
   ]
  },
  {
   "cell_type": "code",
   "execution_count": null,
   "id": "2a6bbaa4",
   "metadata": {},
   "outputs": [],
   "source": [
    "encoded_regressor_dataset.head()"
   ]
  },
  {
   "cell_type": "code",
   "execution_count": null,
   "id": "ec0a5e95",
   "metadata": {},
   "outputs": [],
   "source": [
    "# agglomerative clustering\n",
    "import numpy as np\n",
    "import matplotlib.pyplot as plt\n",
    "from scipy.cluster.hierarchy import dendrogram, linkage\n",
    "from sklearn.cluster import AgglomerativeClustering\n",
    "\n",
    "agg_dataset = encoded_regressor_dataset.drop(['health_score','Country_with_city','Sub Region','Account Name','Account Manager Name'],axis=1)\n",
    "\n",
    "# one-hot encoding for string values\n",
    "encoded_new_d = pd.get_dummies(agg_dataset,columns=['encoded_product_impact'],dtype=int)\n",
    "agg_dataset = encoded_new_d\n",
    "\n",
    "hierarchical_cluster = AgglomerativeClustering(n_clusters=None, linkage='ward',distance_threshold=17)\n",
    "labels = hierarchical_cluster.fit_predict(agg_dataset.drop(['ResponseID'],axis=1))\n",
    "\n",
    "linkage_data = linkage(agg_dataset.drop(['ResponseID'],axis=1), method='ward', metric='euclidean')\n",
    "dendrogram(linkage_data)\n",
    "\n",
    "plt.show()"
   ]
  },
  {
   "cell_type": "code",
   "execution_count": null,
   "id": "32a9209c",
   "metadata": {},
   "outputs": [],
   "source": [
    "labels"
   ]
  },
  {
   "cell_type": "code",
   "execution_count": null,
   "id": "e83a0a3b",
   "metadata": {},
   "outputs": [],
   "source": [
    "# save the clustering model\n",
    "import pickle\n",
    "with open('E:\\Research\\Models/agglomerative_clustering_model.pkl', 'wb') as f:\n",
    "    pickle.dump(hierarchical_cluster, f)"
   ]
  },
  {
   "cell_type": "code",
   "execution_count": null,
   "id": "5b3235e9",
   "metadata": {},
   "outputs": [],
   "source": [
    "agg_dataset"
   ]
  },
  {
   "cell_type": "code",
   "execution_count": null,
   "id": "b6dc31b3",
   "metadata": {},
   "outputs": [],
   "source": [
    "hierarchical_cluster.get_params()"
   ]
  },
  {
   "cell_type": "code",
   "execution_count": null,
   "id": "7fb9f737",
   "metadata": {},
   "outputs": [],
   "source": [
    "labels.max()"
   ]
  },
  {
   "cell_type": "code",
   "execution_count": null,
   "id": "90443cf0",
   "metadata": {},
   "outputs": [],
   "source": [
    "agg_dataset['clusters'] = labels\n",
    "agg_dataset"
   ]
  },
  {
   "cell_type": "code",
   "execution_count": null,
   "id": "a30b6f8f",
   "metadata": {},
   "outputs": [],
   "source": [
    "cluster_0 = agg_dataset[agg_dataset['clusters'] == 0]\n",
    "cluster_0"
   ]
  },
  {
   "cell_type": "code",
   "execution_count": null,
   "id": "8a5533bd",
   "metadata": {},
   "outputs": [],
   "source": [
    "cluster_1 = agg_dataset[agg_dataset['clusters'] == 1]\n",
    "cluster_1"
   ]
  },
  {
   "cell_type": "code",
   "execution_count": null,
   "id": "d5933b1f",
   "metadata": {},
   "outputs": [],
   "source": [
    "# we can assign each cluster to s list- if we want"
   ]
  },
  {
   "cell_type": "code",
   "execution_count": null,
   "id": "4780d75b",
   "metadata": {},
   "outputs": [],
   "source": [
    "features = agg_dataset[['likely_to_recomend','encoded_satisfaction','encoded_responsiveness']].columns\n",
    "for i in range(agg_dataset['clusters'].max()+1):\n",
    "    print(f'cluster-{i}\\n')\n",
    "    for feature in features:\n",
    "        print(f'feature-{feature} mode : ',agg_dataset[agg_dataset['clusters'] == i][feature].mode()[0],'\\n')"
   ]
  },
  {
   "cell_type": "code",
   "execution_count": null,
   "id": "6b7ac716",
   "metadata": {},
   "outputs": [],
   "source": [
    "# i can assign labels based on ranges\n",
    "''' for ecample:\n",
    "\n",
    "    10-8 is best\n",
    "    7-5 is normal\n",
    "    4-0 is bad\n",
    "\n",
    "    5-4 is good\n",
    "    3 is normal\n",
    "    2-1 is bad\n",
    "\n",
    "    4-3 is good\n",
    "    2-1 is bad\n",
    "\n",
    "    need to clarify product impact scores ranges.\n",
    "'''"
   ]
  },
  {
   "cell_type": "code",
   "execution_count": null,
   "id": "ed57f975",
   "metadata": {},
   "outputs": [],
   "source": [
    "features = agg_dataset[['likely_to_recomend','encoded_satisfaction','encoded_responsiveness']].columns\n",
    "mode_of_clusters = dict()\n",
    "min_of_clusters = dict()\n",
    "max_of_clusters = dict()\n",
    "mean_of_clusters = dict()\n",
    "\n",
    "for i in range(agg_dataset['clusters'].max()+1):\n",
    "    # print(f'\\ncluster-{i}')\n",
    "    score_out_of_60 = 0\n",
    "    for feature in features:\n",
    "        mode_c = agg_dataset[agg_dataset['clusters'] == i][feature].mode()[0]\n",
    "        agg_dataset[feature] = (agg_dataset[feature]/agg_dataset[feature].max())*20\n",
    "        # print(f'feature-{feature} mode : ',agg_dataset[agg_dataset['clusters'] == i][feature].mode()[0],'\\n')\n",
    "        score_out_of_60 += agg_dataset[agg_dataset['clusters'] == i][feature]\n",
    "    \n",
    "    # print('Mode',score_out_of_80.mode()[0],'\\nMax ',score_out_of_80.max(),'\\nMin ',score_out_of_80.min())\n",
    "    \n",
    "\n",
    "    mode_of_clusters[f'cluster-{i}'] = score_out_of_60.mode()[0]\n",
    "    max_of_clusters[f'cluster-{i}'] = score_out_of_60.max()\n",
    "    min_of_clusters[f'cluster-{i}'] = score_out_of_60.min()\n",
    "    mean_of_clusters[f'cluster-{i}'] = score_out_of_60.mean()\n"
   ]
  },
  {
   "cell_type": "code",
   "execution_count": null,
   "id": "c1d60670",
   "metadata": {},
   "outputs": [],
   "source": [
    "mode_of_clusters"
   ]
  },
  {
   "cell_type": "code",
   "execution_count": null,
   "id": "e77c42b6",
   "metadata": {},
   "outputs": [],
   "source": [
    "# percentage of mode values\n",
    "agg_dataset"
   ]
  },
  {
   "cell_type": "code",
   "execution_count": null,
   "id": "b5f33172",
   "metadata": {},
   "outputs": [],
   "source": [
    "# measure cluster quality\n",
    "\n",
    "from sklearn.metrics import silhouette_score\n",
    "\n",
    "silhouette = silhouette_score(agg_dataset.drop(['ResponseID'],axis=1), labels)\n",
    "silhouette"
   ]
  },
  {
   "cell_type": "code",
   "execution_count": null,
   "id": "68a8e677",
   "metadata": {},
   "outputs": [],
   "source": [
    "# order clusters according to max in cluster\n",
    "ordered_min = dict(sorted(min_of_clusters.items(), key=lambda item: item[1]))\n",
    "ordered_min"
   ]
  },
  {
   "cell_type": "code",
   "execution_count": null,
   "id": "9b22e1b2",
   "metadata": {},
   "outputs": [],
   "source": [
    "# order clusters according to max in cluster\n",
    "ordered_max = dict(sorted(max_of_clusters.items(), key=lambda item: item[1]))\n",
    "ordered_max"
   ]
  },
  {
   "cell_type": "code",
   "execution_count": null,
   "id": "3c0068c7",
   "metadata": {},
   "outputs": [],
   "source": [
    "# order of clustering according to mean\n",
    "ordered_mean = dict(sorted(mean_of_clusters.items(), key=lambda item: item[1]))\n",
    "ordered_mean"
   ]
  },
  {
   "cell_type": "code",
   "execution_count": null,
   "id": "3226dfd3",
   "metadata": {},
   "outputs": [],
   "source": [
    "# order clusters according to mode in cluster\n",
    "ordered_mode = dict(sorted(mode_of_clusters.items(), key=lambda item: item[1]))\n",
    "ordered_mode"
   ]
  },
  {
   "cell_type": "code",
   "execution_count": null,
   "id": "70650e52",
   "metadata": {},
   "outputs": [],
   "source": [
    "mode_ordered_clusters = list(ordered_mode.keys())\n",
    "max_ordered_clusters = list(ordered_max.keys())\n",
    "min_ordered_clusters = list(ordered_min.keys())\n",
    "\n",
    "print(mode_ordered_clusters,'\\n',max_ordered_clusters,'\\n',min_ordered_clusters,'\\n')"
   ]
  }
 ],
 "metadata": {
  "kernelspec": {
   "display_name": "Python 3 (ipykernel)",
   "language": "python",
   "name": "python3"
  },
  "language_info": {
   "codemirror_mode": {
    "name": "ipython",
    "version": 3
   },
   "file_extension": ".py",
   "mimetype": "text/x-python",
   "name": "python",
   "nbconvert_exporter": "python",
   "pygments_lexer": "ipython3",
   "version": "3.10.10"
  }
 },
 "nbformat": 4,
 "nbformat_minor": 5
}

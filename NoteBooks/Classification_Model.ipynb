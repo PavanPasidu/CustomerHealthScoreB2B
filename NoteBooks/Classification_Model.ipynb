{
 "cells": [
  {
   "cell_type": "code",
   "execution_count": null,
   "metadata": {},
   "outputs": [],
   "source": [
    "# import libs\n",
    "import pandas as pd"
   ]
  },
  {
   "cell_type": "code",
   "execution_count": null,
   "metadata": {},
   "outputs": [],
   "source": [
    "# read the dataset\n",
    "dataset = pd.read_csv('E:\\Research\\Datasets\\WSO2\\Healthscore_dataset/healthscore_by_aglo_clust_full_5clust.csv')\n",
    "dataset.head()"
   ]
  },
  {
   "cell_type": "code",
   "execution_count": null,
   "metadata": {},
   "outputs": [],
   "source": [
    "# split train-test data\n",
    "from sklearn.model_selection import train_test_split\n",
    "\n",
    "X = dataset.drop(['ResponseID','clusters','HealthScore','Account Name','dateTime','Risk_Lvl'],axis=1)\n",
    "y = dataset[['Risk_Lvl']]\n",
    "X_train, X_test, y_train, y_test = train_test_split(X, y, test_size=0.2, random_state=42)"
   ]
  },
  {
   "cell_type": "code",
   "execution_count": null,
   "metadata": {},
   "outputs": [],
   "source": [
    "# model selection for classification\n",
    "from sklearn.linear_model import LogisticRegression\n",
    "from sklearn.ensemble import RandomForestClassifier\n",
    "from sklearn.svm import SVC\n",
    "from sklearn.metrics import accuracy_score,precision_score,recall_score\n",
    "from sklearn.naive_bayes import GaussianNB\n",
    "from xgboost import XGBClassifier\n",
    "\n",
    "import warnings\n",
    "warnings.filterwarnings(\"ignore\")\n",
    "\n",
    "classifiers = {\"LogisticRegression\":LogisticRegression(),\n",
    "              \"RandomForestClassifier\":RandomForestClassifier(),\n",
    "              \"SVC\":SVC()}\n",
    "            #   \"XGBClassifier\":XGBClassifier(),\n",
    "            #   \"GaussianNB\":GaussianNB()}\n",
    "\n",
    "for key,classifier in classifiers.items():\n",
    "    classifier.fit(X_train, y_train)\n",
    "    y_pred = classifier.predict(X_test)\n",
    "\n",
    "    accuracy = classifier.score(X_test, y_test)\n",
    "    precision =  precision_score(y_test, y_pred,average='macro')\n",
    "    recall = recall_score(y_test,y_pred, average='macro')\n",
    "    \n",
    "    print(key,'Accuracy -  ',' : ',accuracy,'  precision : ',precision,'  recall : ',recall,'\\n')\n"
   ]
  },
  {
   "cell_type": "code",
   "execution_count": null,
   "metadata": {},
   "outputs": [],
   "source": []
  },
  {
   "cell_type": "markdown",
   "metadata": {},
   "source": [
    "Best model is RandomForestClassifier."
   ]
  },
  {
   "cell_type": "code",
   "execution_count": null,
   "metadata": {},
   "outputs": [],
   "source": [
    "# train the model\n",
    "from sklearn.metrics import accuracy_score,precision_score\n",
    "randomForestClassifier = RandomForestClassifier()\n",
    "\n",
    "randomForestClassifier.fit(X_train,y_train)\n",
    "y_pred = randomForestClassifier.predict(X_test)\n",
    "\n",
    "# Get the accuracy of the model\n",
    "accuracy = accuracy_score(y_test,y_pred)\n",
    "precision = precision_score(y_test,y_pred,average='macro')\n",
    "recall = recall_score(y_test,y_pred,average='macro')\n",
    "print('Accuracy of the trained classifier :- ',accuracy,'\\n','Precision of the trained classifier :- ',precision,'\\n','recall of the trained classifier :- ',recall)"
   ]
  },
  {
   "cell_type": "code",
   "execution_count": null,
   "metadata": {},
   "outputs": [],
   "source": [
    "# save the model\n",
    "import joblib\n",
    "\n",
    "joblib.dump(randomForestClassifier, 'E:/Research/Models/Classifiers/random_forest_classifier_model2.pkl')"
   ]
  }
 ],
 "metadata": {
  "kernelspec": {
   "display_name": "Python 3 (ipykernel)",
   "language": "python",
   "name": "python3"
  },
  "language_info": {
   "codemirror_mode": {
    "name": "ipython",
    "version": 3
   },
   "file_extension": ".py",
   "mimetype": "text/x-python",
   "name": "python",
   "nbconvert_exporter": "python",
   "pygments_lexer": "ipython3",
   "version": "3.12.0"
  }
 },
 "nbformat": 4,
 "nbformat_minor": 4
}
